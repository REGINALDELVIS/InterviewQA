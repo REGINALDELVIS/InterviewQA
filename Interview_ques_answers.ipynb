{
  "nbformat": 4,
  "nbformat_minor": 0,
  "metadata": {
    "colab": {
      "provenance": []
    },
    "kernelspec": {
      "name": "python3",
      "display_name": "Python 3"
    },
    "language_info": {
      "name": "python"
    }
  },
  "cells": [
    {
      "cell_type": "markdown",
      "source": [
        "**Answers to interview questions**"
      ],
      "metadata": {
        "id": "HcTJUf5aeAUa"
      }
    },
    {
      "cell_type": "markdown",
      "source": [
        "a)\tString compression\n",
        "Implement a method to perform string compression. E.g. ‘aabcccccaaa’ should be a2b1c5a3. The code to implement this is given in the link - https://www.educative.io/answers/string-compression-using-run-length-encoding\n"
      ],
      "metadata": {
        "id": "mZzUay14a78V"
      }
    },
    {
      "cell_type": "code",
      "execution_count": null,
      "metadata": {
        "id": "2kyoRiomAVRx",
        "colab": {
          "base_uri": "https://localhost:8080/"
        },
        "outputId": "39f38bad-4cdc-43a5-d25f-bef17709c45e"
      },
      "outputs": [
        {
          "output_type": "stream",
          "name": "stdout",
          "text": [
            "a2b1c5a3\n"
          ]
        }
      ],
      "source": [
        "def compress_string(s):\n",
        "    if not s:\n",
        "        return s\n",
        "\n",
        "    compressed = []\n",
        "    count = 1\n",
        "\n",
        "    for i in range(1, len(s)):\n",
        "        if s[i] == s[i - 1]:\n",
        "            count += 1\n",
        "        else:\n",
        "            compressed.append(s[i - 1] + str(count))\n",
        "            count = 1\n",
        "\n",
        "    compressed.append(s[-1] + str(count))\n",
        "\n",
        "    compressed_str = ''.join(compressed)\n",
        "\n",
        "    return compressed_str if len(compressed_str) < len(s) else s\n",
        "\n",
        "# Example usage:\n",
        "input_str = 'aabcccccaaa'\n",
        "compressed_str = compress_string(input_str)\n",
        "print(compressed_str)\n"
      ]
    },
    {
      "cell_type": "markdown",
      "source": [
        "Bonus 1:\n",
        "The answer should be taken into second compressor and compress further.  \n",
        "E.g. a2b2c1a3c3 should become ab2c1ac3\n"
      ],
      "metadata": {
        "id": "b3frqd75sljg"
      }
    },
    {
      "cell_type": "code",
      "source": [
        "def double_compress_string(s):\n",
        "    compressed_str = compress_string(s)\n",
        "    return compress_string(compressed_str)\n",
        "\n",
        "# Example usage:\n",
        "input_str = 'aabcccccaaa'\n",
        "first_compressed_str = compress_string(input_str)\n",
        "second_compressed_str = double_compress_string(first_compressed_str)\n",
        "print(second_compressed_str)"
      ],
      "metadata": {
        "colab": {
          "base_uri": "https://localhost:8080/"
        },
        "id": "wh9mFQtgr6MS",
        "outputId": "867065ea-44ff-43a2-ad5b-7a96d8173382"
      },
      "execution_count": null,
      "outputs": [
        {
          "output_type": "stream",
          "name": "stdout",
          "text": [
            "a2b1c5a3\n"
          ]
        }
      ]
    },
    {
      "cell_type": "markdown",
      "source": [
        "Bonus 2: decompress2\n",
        "ab2c1ac3 should return aabbcaaaccc.\n",
        "Think about how you will test this code.  \n"
      ],
      "metadata": {
        "id": "3wl3IIv8s6CB"
      }
    },
    {
      "cell_type": "code",
      "source": [
        "def decompress(s):\n",
        "    if not s:\n",
        "        return s\n",
        "\n",
        "    decompressed = []\n",
        "    i = 0\n",
        "\n",
        "    while i < len(s):\n",
        "        char = s[i]\n",
        "        i += 1\n",
        "        count = 0\n",
        "\n",
        "        while i < len(s) and s[i].isdigit():\n",
        "            count = count * 10 + int(s[i])\n",
        "            i += 1\n",
        "\n",
        "        decompressed.append(char * count)\n",
        "\n",
        "    return ''.join(decompressed)\n",
        "\n",
        "# Example usage:\n",
        "compressed_str = 'ab2c1ac3'\n",
        "decompressed_str = decompress(compressed_str)\n",
        "print(decompressed_str)"
      ],
      "metadata": {
        "colab": {
          "base_uri": "https://localhost:8080/"
        },
        "id": "1VqP4tSvsquw",
        "outputId": "88f47f24-7318-4dac-8f63-f0b2bff88203"
      },
      "execution_count": null,
      "outputs": [
        {
          "output_type": "stream",
          "name": "stdout",
          "text": [
            "bbcccc\n"
          ]
        }
      ]
    },
    {
      "cell_type": "markdown",
      "source": [
        "b)\tLinked List - The link shows a program to find the nth element of a linked list.  https://www.geeksforgeeks.org/nth-node-from-the-end-of-a-linked-list/\n",
        "\n",
        "Find a way to find the kth to the last element of linked list ( assume length of linked list is not known)\n"
      ],
      "metadata": {
        "id": "ApV6xJb6tERM"
      }
    },
    {
      "cell_type": "code",
      "source": [
        "class ListNode:\n",
        "    def __init__(self, value):\n",
        "        self.value = value\n",
        "        self.next = None\n",
        "\n",
        "def kth_to_last(head, k):\n",
        "    if not head or k <= 0:\n",
        "        return None\n",
        "\n",
        "    slow_ptr = head\n",
        "    fast_ptr = head\n",
        "\n",
        "    # Move the fast pointer k nodes ahead\n",
        "    for _ in range(k):\n",
        "        if fast_ptr is None:\n",
        "            return None  # k is greater than the length of the linked list\n",
        "        fast_ptr = fast_ptr.next\n",
        "\n",
        "    # Move both pointers until the fast pointer reaches the end\n",
        "    while fast_ptr:\n",
        "        slow_ptr = slow_ptr.next\n",
        "        fast_ptr = fast_ptr.next\n",
        "\n",
        "    return slow_ptr\n",
        "\n",
        "# Example usage:\n",
        "# Create a linked list: 1 -> 2 -> 3 -> 4 -> 5\n",
        "head = ListNode(1)\n",
        "head.next = ListNode(2)\n",
        "head.next.next = ListNode(3)\n",
        "head.next.next.next = ListNode(4)\n",
        "head.next.next.next.next = ListNode(5)\n",
        "\n",
        "k = 2  # Find the 2nd to last element\n",
        "result = kth_to_last(head, k)\n",
        "\n",
        "if result:\n",
        "    print(f\"The {k}th to last element is: {result.value}\")\n",
        "else:\n",
        "    print(f\"The {k}th to last element is not found.\")\n"
      ],
      "metadata": {
        "colab": {
          "base_uri": "https://localhost:8080/"
        },
        "id": "33O9Zewvs8Y5",
        "outputId": "8a7cc101-bede-4283-b6d1-dbe0279a8828"
      },
      "execution_count": null,
      "outputs": [
        {
          "output_type": "stream",
          "name": "stdout",
          "text": [
            "The 2th to last element is: 4\n"
          ]
        }
      ]
    },
    {
      "cell_type": "markdown",
      "source": [
        "Bonus 1:\n",
        "Can you minimize the number of times you run through the loop.\n"
      ],
      "metadata": {
        "id": "6GFCfAeJcCtA"
      }
    },
    {
      "cell_type": "code",
      "source": [
        "class ListNode:\n",
        "    def __init__(self, val=0, next=None):\n",
        "        self.val = val\n",
        "        self.next = next\n",
        "\n",
        "def find_length(head):\n",
        "    length = 0\n",
        "    while head:\n",
        "        length += 1\n",
        "        head = head.next\n",
        "    return length\n",
        "\n",
        "def find_kth_to_last(head, k):\n",
        "    if not head or k <= 0:\n",
        "        return None\n",
        "\n",
        "    length = find_length(head)\n",
        "    target_position = length - k\n",
        "\n",
        "    if target_position < 0:\n",
        "        return None\n",
        "\n",
        "    current_position = 0\n",
        "    current_node = head\n",
        "\n",
        "    while current_position < target_position:\n",
        "        current_node = current_node.next\n",
        "        current_position += 1\n",
        "\n",
        "    return current_node\n",
        "\n",
        "# Example usage\n",
        "# Create a linked list: 1 -> 2 -> 3 -> 4 -> 5\n",
        "head = ListNode(1)\n",
        "head.next = ListNode(2)\n",
        "head.next.next = ListNode(3)\n",
        "head.next.next.next = ListNode(4)\n",
        "head.next.next.next.next = ListNode(5)\n",
        "\n",
        "k = 2\n",
        "result = find_kth_to_last(head, k)\n",
        "if result:\n"
      ],
      "metadata": {
        "id": "j8R4viyhb0XL"
      },
      "execution_count": null,
      "outputs": []
    },
    {
      "cell_type": "markdown",
      "source": [
        "c)\tStack minimum- Details of stack data structure is available in https://www.geeksforgeeks.org/stack-data-structure/\n",
        "Stack has functions of push and pop. Can you also add a function ‘min’ to the stack and it should also execute in O(1).\n",
        "\n",
        "If you are not aware of O(1), refer to some videos online. E.g. https://en.wikipedia.org/wiki/Big_O_notation\n",
        "\n",
        "Bonus 1 –\n",
        "\n",
        "Explain one real world use case where stack is better used data structure than arrays.\n"
      ],
      "metadata": {
        "id": "Osi-8dtLtbPF"
      }
    },
    {
      "cell_type": "code",
      "source": [
        "class MinStack:\n",
        "    def __init__(self):\n",
        "        self.stack = []  # Main stack to store elements\n",
        "        self.min_stack = []  # Stack to track the minimum element\n",
        "\n",
        "    def push(self, value):\n",
        "        self.stack.append(value)\n",
        "\n",
        "        # Update the minimum stack with the new minimum if necessary\n",
        "        if not self.min_stack or value <= self.min_stack[-1]:\n",
        "            self.min_stack.append(value)\n",
        "\n",
        "    def pop(self):\n",
        "        if not self.stack:\n",
        "            return None\n",
        "\n",
        "        popped_value = self.stack.pop()\n",
        "\n",
        "        # Update the minimum stack if the popped value is the current minimum\n",
        "        if popped_value == self.min_stack[-1]:\n",
        "            self.min_stack.pop()\n",
        "\n",
        "        return popped_value\n",
        "\n",
        "    def min(self):\n",
        "        if not self.min_stack:\n",
        "            return None\n",
        "        return self.min_stack[-1]\n",
        "\n",
        "# Example usage:\n",
        "stack = MinStack()\n",
        "stack.push(3)\n",
        "stack.push(2)\n",
        "stack.push(5)\n",
        "\n",
        "print(stack.min())  # Output: 2 (minimum element in the stack)\n",
        "stack.pop()\n",
        "print(stack.min())  # Output: 2 (minimum element in the stack)\n",
        "stack.pop()\n",
        "print(stack.min())  # Output: 3 (minimum element in the stack)\n"
      ],
      "metadata": {
        "colab": {
          "base_uri": "https://localhost:8080/"
        },
        "id": "CHQ4PZoHtJJX",
        "outputId": "55e90589-c90b-4e6f-a2fe-039c59c70339"
      },
      "execution_count": null,
      "outputs": [
        {
          "output_type": "stream",
          "name": "stdout",
          "text": [
            "2\n",
            "2\n",
            "3\n"
          ]
        }
      ]
    },
    {
      "cell_type": "markdown",
      "source": [
        "d)\tGiven an array of integers representing the elevation of a roof structure at\n",
        "various positions, each position is separated by a unit length, Write a program\n",
        "to determine the amount of water that will be trapped on the roof after heavy\n",
        "rainfall\n",
        "Example:\n",
        "input : [2 1 3 0 1 2 3]\n",
        "Ans : 7 units of water will be trapped\n",
        "\n"
      ],
      "metadata": {
        "id": "L2wPN10jtlvB"
      }
    },
    {
      "cell_type": "code",
      "source": [
        "def trap_water(elevation):\n",
        "    n = len(elevation)\n",
        "    if n < 3:\n",
        "        return 0\n",
        "\n",
        "    water = 0\n",
        "    left = 0\n",
        "    right = n - 1\n",
        "    left_max = 0\n",
        "    right_max = 0\n",
        "\n",
        "    while left < right:\n",
        "        if elevation[left] < elevation[right]:\n",
        "            if elevation[left] > left_max:\n",
        "                left_max = elevation[left]\n",
        "            else:\n",
        "                water += left_max - elevation[left]\n",
        "            left += 1\n",
        "        else:\n",
        "            if elevation[right] > right_max:\n",
        "                right_max = elevation[right]\n",
        "            else:\n",
        "                water += right_max - elevation[right]\n",
        "            right -= 1\n",
        "\n",
        "    return water\n",
        "\n",
        "# Example usage\n",
        "elevation = [2, 1, 3, 0, 1, 2, 3]\n",
        "water_trapped = trap_water(elevation)\n",
        "print(\"Amount of water trapped:\", water_trapped)\n",
        "\n"
      ],
      "metadata": {
        "id": "RzBxkPTztdBZ",
        "colab": {
          "base_uri": "https://localhost:8080/"
        },
        "outputId": "9a72041e-6fb5-4658-f41b-d03f9d225593"
      },
      "execution_count": 1,
      "outputs": [
        {
          "output_type": "stream",
          "name": "stdout",
          "text": [
            "Amount of water trapped: 7\n"
          ]
        }
      ]
    },
    {
      "cell_type": "markdown",
      "source": [
        "For calculating the amount of water trapped under a bounded, continuous function within a given range we can use numerical integration. We'll use the trapezoidal rule for numerical integration."
      ],
      "metadata": {
        "id": "7-eXNDSXcuzp"
      }
    },
    {
      "cell_type": "code",
      "source": [
        "import numpy as np\n",
        "\n",
        "def calculate_trapped_water(function, start, end, num_intervals=1000):\n",
        "    # Generate equally spaced points within the integration range\n",
        "    x_values = np.linspace(start, end, num_intervals + 1)\n",
        "    # Calculate the function values at each point\n",
        "    y_values = function(x_values)\n",
        "\n",
        "    # Trapezoidal rule for numerical integration\n",
        "    integration_result = np.trapz(y_values, x_values)\n",
        "    return integration_result\n",
        "\n",
        "# Define the bounded function (for example, a parabolic function)\n",
        "def bounded_function(x):\n",
        "    return -(x - 5) * (x + 5)  # Modify this function based on your requirements\n",
        "\n",
        "# Define the integration range\n",
        "start_range = -5\n",
        "end_range = 5\n",
        "\n",
        "# Calculate the trapped water\n",
        "trapped_water = calculate_trapped_water(bounded_function, start_range, end_range)\n",
        "\n",
        "print(\"Amount of water trapped:\", trapped_water)\n"
      ],
      "metadata": {
        "colab": {
          "base_uri": "https://localhost:8080/"
        },
        "id": "ltGvIzKjcuDM",
        "outputId": "667d2102-919c-49c4-f1c0-151c76d4dc12"
      },
      "execution_count": 2,
      "outputs": [
        {
          "output_type": "stream",
          "name": "stdout",
          "text": [
            "Amount of water trapped: 166.66649999999998\n"
          ]
        }
      ]
    },
    {
      "cell_type": "markdown",
      "source": [
        "e)\tYou will be given a list coin denominations that you can use to tender change to\n",
        "your customers, find the most optimum way to tender the exact change to your\n",
        "customers , the optimum is when you use the least number of coins.\n",
        "\n",
        "Example:\n",
        "input => [ 1, 2, 5, 8, 10] (available coins)\n",
        "Input => 7 (Change to be given)\n",
        "Ans : [ 2, 5 ]\n",
        "\n",
        "\n",
        "Explain all the scenarios in better words and simpler to understand format compared to explanation available in the link below:\n",
        "https://www.geeksforgeeks.org/coin-change-dp-7/\n",
        "\n",
        "Explain what is a greedy algorithm and how dynamic programming helps in this case.\n",
        "\n",
        "Bonus question:\n",
        "\n",
        "given a number N, remove one digit and print the largest possible number.\n",
        "E.g.\n",
        "Why is the above solution part of a greedy algorithm?\n",
        "5 -\n",
        "1234\n",
        "2945\n",
        "9273\n",
        "3954\n",
        "19374\n",
        "\n",
        "\n",
        "\n",
        "Answers:\n",
        "\n",
        "234\n",
        "945\n",
        "973\n",
        "954\n",
        "9374\n"
      ],
      "metadata": {
        "id": "sRs2ZUQAdBB-"
      }
    },
    {
      "cell_type": "code",
      "source": [
        "def find_optimal_change(coins, change):\n",
        "    # Sort the coin denominations in descending order\n",
        "    coins.sort(reverse=True)\n",
        "\n",
        "    # Initialize a list to store the coins to be returned as change\n",
        "    optimal_change = []\n",
        "\n",
        "    # Iterate through the available coins\n",
        "    for coin in coins:\n",
        "        while change >= coin:\n",
        "            # Add the largest possible coin to the optimal change\n",
        "            optimal_change.append(coin)\n",
        "            # Update the remaining change\n",
        "            change -= coin\n",
        "\n",
        "    return optimal_change\n",
        "\n",
        "# Example usage\n",
        "coin_denominations = [1, 2, 5, 8, 10]\n",
        "change_to_be_given = 7\n",
        "optimal_change_list = find_optimal_change(coin_denominations, change_to_be_given)\n",
        "print(\"Optimal Change: \", optimal_change_list)  # Output: [5, 2]\n"
      ],
      "metadata": {
        "colab": {
          "base_uri": "https://localhost:8080/"
        },
        "id": "PFgiT8d_dLOD",
        "outputId": "708baf27-2d00-4de2-cf2f-ac436a55ca06"
      },
      "execution_count": 3,
      "outputs": [
        {
          "output_type": "stream",
          "name": "stdout",
          "text": [
            "Optimal Change:  [5, 2]\n"
          ]
        }
      ]
    }
  ]
}